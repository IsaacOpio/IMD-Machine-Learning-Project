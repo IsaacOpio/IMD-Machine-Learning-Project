{
 "cells": [
  {
   "cell_type": "markdown",
   "metadata": {},
   "source": [
    "MACHINE LERNING PIPLEINE BY: Okello Isaac Opio\n",
    "\n",
    "Stuyd title: \n",
    "\n",
    "**GENETIC, BIOLOGICAL AND PSYCHOSOCIAL PREDICTORS OF INCIDENT AND PERSISTENT INTERNALIZING MENTAL DISORDERS AMONG UGANDAN CHILDREN AND ADOLESCENTS LIVING WITH HIV: A MACHINE LEARNING APPROACH**\n",
    "\n",
    "**General Objective**\n",
    "\n",
    "The general objective of this study is to investigate the predictors of Internalizing Mental Disorders among Ugandan children and adolescents living with HIV using a machine learning approach. \n",
    "\n",
    "**Specific Objectives**\n",
    "- To build a machine learning model for prediction of prevalent, incident, and persistent cases of Internalizing Mental Disorders among Ugandan children and adolescents living with HIV.\n",
    "- To evaluate the performance of the machine learning model (developed in 1 above) based on each of Genetic, Biological, and Psychosocial factors respectively.\n",
    "- To evaluate the performance of the machine learning model based on the combination of all the three factor domains of Genetic, Biological, and Psychosocial factors. \n"
   ]
  },
  {
   "cell_type": "markdown",
   "metadata": {},
   "source": [
    "**STEPS**\n",
    "\n",
    "The project roadmap\n",
    "1. Prepare Problem\n",
    "a) Load libraries\n",
    "b) Load dataset\n",
    "\n",
    "2. Summarize Data\n",
    "a) Descriptive statistics\n",
    "b) Data visualizations\n",
    "\n",
    "3. Prepare Data\n",
    "a) Data Cleaning\n",
    "b) Feature Selection\n",
    "c) Data Transforms\n",
    "\n",
    "4. Evaluate Algorithms\n",
    "a) Split-out validation dataset\n",
    "b) Test options and evaluation metric\n",
    "c) Spot Check Algorithms\n",
    "d) Compare Algorithms\n",
    "\n",
    "5. Improve Accuracy\n",
    "a) Algorithm Tuning\n",
    "\n",
    "6. Finalize Model\n",
    "a) Predictions on validation dataset\n",
    "b) Create standalone model on entire training dataset\n",
    "\n",
    "7. Feature importance selection"
   ]
  },
  {
   "cell_type": "code",
   "execution_count": 5,
   "metadata": {},
   "outputs": [],
   "source": [
    "# IMD Python Project Pipeline\n",
    "# Load libraries\n",
    "#import the necessary libraries\n",
    "\n",
    "import pandas as pd # For the manipulation of tabular data\n",
    "import numpy as np # For improved numerical calculation\n",
    "from ydata_profiling import ProfileReport # For exploratory data analysis reporting\n",
    "import matplotlib.pyplot as plt # For plotting\n",
    "import seaborn as sns # For improved plot outlook\n",
    "\n",
    "%matplotlib inline \n",
    "#Tells Jupyter to display any matplotlib plots directly within the notebook, rather than in a separate. Alt: plt.show()\n",
    "\n",
    "# Importing the scaler\n",
    "from sklearn.preprocessing import StandardScaler\n",
    "\n",
    "# Importing required models and metrics\n",
    "# Importing necessary modules for cross-validation\n",
    "from sklearn.model_selection import StratifiedKFold, cross_val_score\n",
    "\n",
    "# Importing classifiers based on their functionalities\n",
    "\n",
    "# Logistic Regression: A linear model for classification tasks, often used for binary classification\n",
    "from sklearn.linear_model import LogisticRegression  \n",
    "# Gaussian Naive Bayes: A probabilistic classifier based on Bayes' theorem with Gaussian distribution assumption\n",
    "from sklearn.naive_bayes import GaussianNB  \n",
    "# K-Nearest Neighbors: A non-parametric method used for classification based on nearest training examples\n",
    "from sklearn.neighbors import KNeighborsClassifier  \n",
    "# Decision Tree: A non-linear model that partitions the feature space into regions to make predictions\n",
    "from sklearn.tree import DecisionTreeClassifier  \n",
    "# Support Vector Classifier: A powerful classifier that finds the hyperplane that best separates classes in high-dimensional space\n",
    "from sklearn.svm import SVC  \n",
    "\n",
    "# Importing ensemble classifiers\n",
    "# Random Forest: An ensemble method that builds multiple decision trees and combines their predictions\n",
    "from sklearn.ensemble import RandomForestClassifier  \n",
    "# Gradient Boosting Classifier: An ensemble method that builds trees sequentially, each correcting the mistakes of the previous one\n",
    "from sklearn.ensemble import GradientBoostingClassifier  \n",
    "# AdaBoost Classifier: An ensemble method that combines multiple weak learners to build a strong classifier\n",
    "from sklearn.ensemble import AdaBoostClassifier  \n",
    "\n",
    "# Removing the warnings from the cells by importing the warnings module\n",
    "\n",
    "import warnings\n",
    "warnings.filterwarnings('ignore')  # Setting up a filter to ignore warnings. Good if you are confident with the codes"
   ]
  },
  {
   "cell_type": "code",
   "execution_count": 6,
   "metadata": {},
   "outputs": [],
   "source": [
    "import pandas as pd\n",
    "\n",
    "# Define columns and their respective data types\n",
    "dtype_mapping = {\n",
    "    'Age_Category': str, 'Gender_of_Child': str, 'Childs_Education_Level': str,\n",
    "    'Religion': str, 'BMI_category': str, 'Tribe_of_Child': str, 'orphanhood': str,\n",
    "    'Socio_Economic_Status': str, 'Support_Program': str, 'Child_Takes_ART': str,\n",
    "    'Premature_Birth': str, 'Born_with_HIV': str, 'Stress': str, 'Worst_HIV_Stage': str,\n",
    "    'CD4_category': str, 'Viralload_Category': str, 'Telomere_Lenth_Difference': float, 'telomere_length_change': str,\n",
    "    'stin2vntr_': str, 'httlpr1_polymorphism': str, 'HTTLPRrs35531': str,\n",
    "    'rs35531_polymorphism': str, 'Rs10482605_polymorphism': str,\n",
    "    'Rs1360780_polymorphism': str, 'rs1386494_polymorphism': str,\n",
    "    'rs1843809_polymorphism': str, 'rs34517220_polymorphism': str, 'GroupCategory': str,\n",
    "    'IMDs': str, 'Age': float, 'Baseline_telomere_length': float, 'Telomere_length_12Months': float\n",
    "}\n",
    "\n",
    "# Read the CSV file with specified data types\n",
    "IMD_IMD = pd.read_csv(\"IMD Persistence CSV Data.csv\", dtype=dtype_mapping, encoding='latin1')\n",
    "\n",
    "# # Display the first few rows of the DataFrame\n",
    "# IMD_IMD.head(5)\n"
   ]
  },
  {
   "cell_type": "code",
   "execution_count": 7,
   "metadata": {},
   "outputs": [
    {
     "name": "stdout",
     "output_type": "stream",
     "text": [
      "['Age', 'Age_Category', 'Gender_of_Child', 'Childs_Education_Level', 'Religion', 'BMI_category', 'childtrib1', 'orphanhood', 'Socio_Economic_Status', 'Support_Program', 'Child_Takes_ART', 'Premature_Birth', 'Born_with_HIV', 'Stress', 'Worst_HIV_Stage', 'CD4_category', 'Viralload_Category', 'Baseline_telomere_length', 'Telomere_length_12Months', 'Telomere_Lenth_Difference', 'telomere_length_change', 'stin2vntr_', 'httlpr1_polymorphism', 'HTTLPRrs35531', 'rs35531_polymorphism', 'Rs10482605_polymorphism', 'Rs1360780_polymorphism', 'rs1386494_polymorphism', 'rs1843809_polymorphism', 'rs34517220_polymorphism', 'GroupCategory', 'IMDs']\n"
     ]
    },
    {
     "data": {
      "text/plain": [
       "Index(['Worst_HIV_Stage', 'CD4_category', 'Viralload_Category',\n",
       "       'Baseline_telomere_length', 'Telomere_length_12Months',\n",
       "       'Telomere_Lenth_Difference', 'telomere_length_change', 'IMDs'],\n",
       "      dtype='object')"
      ]
     },
     "execution_count": 7,
     "metadata": {},
     "output_type": "execute_result"
    }
   ],
   "source": [
    "# List variable names\n",
    "variable_names = IMD_IMD.columns.tolist()\n",
    "\n",
    "# Print the variable names\n",
    "print(variable_names)\n",
    "\n",
    "#Dropping Non-Important and Redundant Variables \n",
    "# List of variables to drop\n",
    "\n",
    "columns_to_drop = ['Age', 'Age_Category', 'Gender_of_Child', 'Childs_Education_Level', 'Religion',\n",
    "       'BMI_category', 'childtrib1', 'orphanhood', 'Socio_Economic_Status',\n",
    "       'Support_Program', 'Child_Takes_ART', 'Premature_Birth',\n",
    "       'Born_with_HIV', 'Stress','stin2vntr_', 'httlpr1_polymorphism', 'HTTLPRrs35531', 'rs35531_polymorphism', 'Rs10482605_polymorphism', 'Rs1360780_polymorphism', 'rs1386494_polymorphism', 'rs1843809_polymorphism', 'rs34517220_polymorphism', 'GroupCategory',]\n",
    "# Dropping the specified columns\n",
    "IMD_Dataset = IMD_IMD.drop(columns=columns_to_drop)\n",
    "\n",
    "IMD_Dataset.columns"
   ]
  },
  {
   "cell_type": "markdown",
   "metadata": {},
   "source": [
    "**Summarize Data**\n",
    "\n",
    "Descriptive statistics\n"
   ]
  },
  {
   "cell_type": "code",
   "execution_count": 8,
   "metadata": {},
   "outputs": [],
   "source": [
    "# 2. Summarize Data\n",
    "# # a) Descriptive statistics\n",
    "# IMD_Dataset.dtypes"
   ]
  },
  {
   "cell_type": "code",
   "execution_count": 9,
   "metadata": {},
   "outputs": [
    {
     "data": {
      "text/plain": [
       "(368, 8)"
      ]
     },
     "execution_count": 9,
     "metadata": {},
     "output_type": "execute_result"
    }
   ],
   "source": [
    "IMD_Dataset.shape"
   ]
  },
  {
   "cell_type": "code",
   "execution_count": 10,
   "metadata": {},
   "outputs": [
    {
     "data": {
      "text/html": [
       "<div>\n",
       "<style scoped>\n",
       "    .dataframe tbody tr th:only-of-type {\n",
       "        vertical-align: middle;\n",
       "    }\n",
       "\n",
       "    .dataframe tbody tr th {\n",
       "        vertical-align: top;\n",
       "    }\n",
       "\n",
       "    .dataframe thead th {\n",
       "        text-align: right;\n",
       "    }\n",
       "</style>\n",
       "<table border=\"1\" class=\"dataframe\">\n",
       "  <thead>\n",
       "    <tr style=\"text-align: right;\">\n",
       "      <th></th>\n",
       "      <th>count</th>\n",
       "      <th>mean</th>\n",
       "      <th>std</th>\n",
       "      <th>min</th>\n",
       "      <th>25%</th>\n",
       "      <th>50%</th>\n",
       "      <th>75%</th>\n",
       "      <th>max</th>\n",
       "    </tr>\n",
       "  </thead>\n",
       "  <tbody>\n",
       "    <tr>\n",
       "      <th>Baseline_telomere_length</th>\n",
       "      <td>307.0</td>\n",
       "      <td>1.198068</td>\n",
       "      <td>0.364150</td>\n",
       "      <td>0.105856</td>\n",
       "      <td>0.994869</td>\n",
       "      <td>1.196082</td>\n",
       "      <td>1.377054</td>\n",
       "      <td>2.130282</td>\n",
       "    </tr>\n",
       "    <tr>\n",
       "      <th>Telomere_length_12Months</th>\n",
       "      <td>278.0</td>\n",
       "      <td>0.925171</td>\n",
       "      <td>0.335587</td>\n",
       "      <td>0.191179</td>\n",
       "      <td>0.724868</td>\n",
       "      <td>0.873149</td>\n",
       "      <td>1.056067</td>\n",
       "      <td>2.189599</td>\n",
       "    </tr>\n",
       "    <tr>\n",
       "      <th>Telomere_Lenth_Difference</th>\n",
       "      <td>231.0</td>\n",
       "      <td>0.255607</td>\n",
       "      <td>0.472611</td>\n",
       "      <td>-1.213538</td>\n",
       "      <td>-0.005624</td>\n",
       "      <td>0.286278</td>\n",
       "      <td>0.592452</td>\n",
       "      <td>1.496646</td>\n",
       "    </tr>\n",
       "  </tbody>\n",
       "</table>\n",
       "</div>"
      ],
      "text/plain": [
       "                           count      mean       std       min       25%  \\\n",
       "Baseline_telomere_length   307.0  1.198068  0.364150  0.105856  0.994869   \n",
       "Telomere_length_12Months   278.0  0.925171  0.335587  0.191179  0.724868   \n",
       "Telomere_Lenth_Difference  231.0  0.255607  0.472611 -1.213538 -0.005624   \n",
       "\n",
       "                                50%       75%       max  \n",
       "Baseline_telomere_length   1.196082  1.377054  2.130282  \n",
       "Telomere_length_12Months   0.873149  1.056067  2.189599  \n",
       "Telomere_Lenth_Difference  0.286278  0.592452  1.496646  "
      ]
     },
     "execution_count": 10,
     "metadata": {},
     "output_type": "execute_result"
    }
   ],
   "source": [
    "IMD_Dataset.describe().T"
   ]
  },
  {
   "cell_type": "code",
   "execution_count": 11,
   "metadata": {},
   "outputs": [
    {
     "data": {
      "text/plain": [
       "6"
      ]
     },
     "execution_count": 11,
     "metadata": {},
     "output_type": "execute_result"
    }
   ],
   "source": [
    "# Checking for duplicates\n",
    "IMD_Dataset.duplicated().sum()\n"
   ]
  },
  {
   "cell_type": "code",
   "execution_count": 12,
   "metadata": {},
   "outputs": [],
   "source": [
    "# import matplotlib.pyplot as plt\n",
    "\n",
    "# # Define colors for the pie chart\n",
    "# colors = ['#FF5733', '#1F77B4']\n",
    "\n",
    "# # Proportion of fetal health classes\n",
    "# plt.figure(figsize=(10, 6))  # Set the figure size\n",
    "# plt.pie(IMD_Dataset['IMDs'].value_counts(), startangle=90, counterclock=False, autopct='%1.1f%%', wedgeprops={'width': 1}, colors=colors)\n",
    "# plt.axis('equal')  # Set equal aspect ratio to make it a complete circle\n",
    "# plt.legend(['Have Incident IMD', 'No Incident IMD'])  # Set the legend labels\n",
    "# plt.title(\"Prevalence of Incident Internalizing Mental Disorder\")  # Set the title\n",
    "# plt.show()\n"
   ]
  },
  {
   "cell_type": "code",
   "execution_count": 13,
   "metadata": {},
   "outputs": [],
   "source": [
    "# import pandas as pd\n",
    "# import matplotlib.pyplot as plt\n",
    "# import seaborn as sns\n",
    "\n",
    "# # Given variable names\n",
    "# variables_of_interest = ['Baseline_telomere_length', 'Telomere_length_12Months', 'Telomere_Lenth_Difference']\n",
    "\n",
    "# # Select only the specified variables from the dataset\n",
    "# selected_variables = IMD_Dataset[variables_of_interest]\n",
    "\n",
    "# # # Plot histograms for each selected variable\n",
    "# # for var in selected_variables.columns:\n",
    "# #     plt.figure(figsize=(6, 4))  # Adjust the figure size as needed\n",
    "# #     plt.hist(selected_variables[var], bins=20, color='skyblue', edgecolor='black')  # Adjust the number of bins and color as needed\n",
    "# #     plt.title(f'Distribution of {var}')\n",
    "# #     plt.xlabel(var)\n",
    "# #     plt.ylabel('Frequency')\n",
    "# #     plt.grid(True)\n",
    "# #     plt.show()\n",
    "\n",
    "# # Define colors\n",
    "# hist_color = 'blue'\n",
    "# kde_color = 'red'\n",
    "\n",
    "# # Plot histograms for each selected variable\n",
    "# for var in selected_variables.columns:\n",
    "#     plt.figure(figsize=(10, 6))  # Adjust the figure size as needed\n",
    "    \n",
    "#     # Plot histogram with KDE curve\n",
    "#     sns.histplot(selected_variables[var], bins=20, color=hist_color, edgecolor='black', kde=True, line_kws={'color': kde_color})\n",
    "    \n",
    "#     plt.title(f'Distribution of {var}')\n",
    "#     plt.xlabel(var)\n",
    "#     plt.ylabel('Frequency')\n",
    "#     plt.grid(True)\n",
    "#     plt.show()"
   ]
  },
  {
   "cell_type": "code",
   "execution_count": 14,
   "metadata": {},
   "outputs": [
    {
     "data": {
      "text/plain": [
       "493"
      ]
     },
     "execution_count": 14,
     "metadata": {},
     "output_type": "execute_result"
    }
   ],
   "source": [
    "# Display the first few rows of the DataFrame\n",
    "IMD_Dataset.isnull().sum().sum()"
   ]
  },
  {
   "cell_type": "code",
   "execution_count": 15,
   "metadata": {},
   "outputs": [],
   "source": [
    "# IMD_Dataset.isnull().sum().sum"
   ]
  },
  {
   "cell_type": "code",
   "execution_count": 16,
   "metadata": {},
   "outputs": [],
   "source": [
    "# import pandas_profiling\n",
    "\n",
    "# # create an EDA report using pandasprofiling\n",
    "# profile = IMD_Dataset.profile_report()\n",
    "\n",
    "# # Saving the profile report\n",
    "# profile.to_file(\"Incident_May_IMD_Profile_Report.html\")\n",
    "\n",
    "# # Display the profile report\n",
    "# display(profile)\n"
   ]
  },
  {
   "cell_type": "markdown",
   "metadata": {},
   "source": [
    "Observations from pandas profiling\n",
    "- `General Statistics:` There were about 29 variables. with 368 observations. The missing cells composed of 6.5%. There were no duplicates.\n",
    "- `Presence of a highly imbalanced variable:` There were over 15 varaibles that were imbalanced and this informed our decision on the metrcs for selcetion of best model"
   ]
  },
  {
   "cell_type": "markdown",
   "metadata": {},
   "source": [
    "**IMPUTATIONS OF MISISNG VALUES**\n",
    "\n",
    "- The SimpleImputer was the ebst choice to be used."
   ]
  },
  {
   "cell_type": "code",
   "execution_count": 17,
   "metadata": {},
   "outputs": [
    {
     "data": {
      "text/plain": [
       "0"
      ]
     },
     "execution_count": 17,
     "metadata": {},
     "output_type": "execute_result"
    }
   ],
   "source": [
    "import pandas as pd\n",
    "from sklearn.impute import SimpleImputer\n",
    "\n",
    "# Separate features and target variable\n",
    "IMD_2 = IMD_Dataset.copy()\n",
    "# Identify numerical and categorical (object) columns\n",
    "# numerical_cols = IMD_2.select_dtypes(include=['float64', 'int64']).columns\n",
    "categorical_cols = IMD_2.select_dtypes(include=['object']).columns\n",
    "\n",
    "# Impute missing values for categorical columns\n",
    "categorical_imputer = SimpleImputer(strategy='most_frequent')\n",
    "categorical_imputed = pd.DataFrame(categorical_imputer.fit_transform(IMD_2[categorical_cols]), columns=categorical_cols)\n",
    "\n",
    "# Combine imputed numerical and categorical columns\n",
    "IMD_2_imputed = pd.concat([categorical_imputed], axis=1)\n",
    "\n",
    "#Check for misisng vlaues again\n",
    "IMD_2_imputed.isnull().sum().sum()"
   ]
  },
  {
   "cell_type": "markdown",
   "metadata": {},
   "source": [
    "### 3. Prepare Data\n",
    "\n",
    "a) Data Cleaning\n",
    "\n",
    "b) Feature Selection\n",
    "\n",
    "c) Data Transforms\n",
    "\n"
   ]
  },
  {
   "cell_type": "markdown",
   "metadata": {},
   "source": [
    "ENCODING"
   ]
  },
  {
   "cell_type": "code",
   "execution_count": 18,
   "metadata": {},
   "outputs": [
    {
     "data": {
      "text/html": [
       "<div>\n",
       "<style scoped>\n",
       "    .dataframe tbody tr th:only-of-type {\n",
       "        vertical-align: middle;\n",
       "    }\n",
       "\n",
       "    .dataframe tbody tr th {\n",
       "        vertical-align: top;\n",
       "    }\n",
       "\n",
       "    .dataframe thead th {\n",
       "        text-align: right;\n",
       "    }\n",
       "</style>\n",
       "<table border=\"1\" class=\"dataframe\">\n",
       "  <thead>\n",
       "    <tr style=\"text-align: right;\">\n",
       "      <th></th>\n",
       "      <th>Worst_HIV_Stage</th>\n",
       "      <th>CD4_category</th>\n",
       "      <th>Viralload_Category</th>\n",
       "      <th>telomere_length_change</th>\n",
       "      <th>IMDs</th>\n",
       "    </tr>\n",
       "  </thead>\n",
       "  <tbody>\n",
       "    <tr>\n",
       "      <th>0</th>\n",
       "      <td>0</td>\n",
       "      <td>0</td>\n",
       "      <td>0</td>\n",
       "      <td>0</td>\n",
       "      <td>1</td>\n",
       "    </tr>\n",
       "    <tr>\n",
       "      <th>1</th>\n",
       "      <td>0</td>\n",
       "      <td>0</td>\n",
       "      <td>1</td>\n",
       "      <td>1</td>\n",
       "      <td>1</td>\n",
       "    </tr>\n",
       "    <tr>\n",
       "      <th>2</th>\n",
       "      <td>2</td>\n",
       "      <td>0</td>\n",
       "      <td>1</td>\n",
       "      <td>0</td>\n",
       "      <td>1</td>\n",
       "    </tr>\n",
       "    <tr>\n",
       "      <th>3</th>\n",
       "      <td>1</td>\n",
       "      <td>0</td>\n",
       "      <td>0</td>\n",
       "      <td>0</td>\n",
       "      <td>1</td>\n",
       "    </tr>\n",
       "    <tr>\n",
       "      <th>4</th>\n",
       "      <td>1</td>\n",
       "      <td>0</td>\n",
       "      <td>0</td>\n",
       "      <td>0</td>\n",
       "      <td>0</td>\n",
       "    </tr>\n",
       "  </tbody>\n",
       "</table>\n",
       "</div>"
      ],
      "text/plain": [
       "   Worst_HIV_Stage  CD4_category  Viralload_Category  telomere_length_change  \\\n",
       "0                0             0                   0                       0   \n",
       "1                0             0                   1                       1   \n",
       "2                2             0                   1                       0   \n",
       "3                1             0                   0                       0   \n",
       "4                1             0                   0                       0   \n",
       "\n",
       "   IMDs  \n",
       "0     1  \n",
       "1     1  \n",
       "2     1  \n",
       "3     1  \n",
       "4     0  "
      ]
     },
     "execution_count": 18,
     "metadata": {},
     "output_type": "execute_result"
    }
   ],
   "source": [
    "import pandas as pd\n",
    "from sklearn.compose import ColumnTransformer\n",
    "from sklearn.preprocessing import Normalizer, OneHotEncoder, LabelEncoder, StandardScaler\n",
    "from sklearn.pipeline import Pipeline\n",
    "from sklearn.impute import SimpleImputer\n",
    "\n",
    "# Separate features and target variable\n",
    "IMD_Copy = IMD_2_imputed.copy()\n",
    "\n",
    "# Label encode the IMD_Copy variable if it's categorical\n",
    "for column in IMD_Copy.columns:\n",
    "    if IMD_Copy[column].dtype == 'object' or IMD_Copy[column].dtype.name == 'category':\n",
    "        label_encoder = LabelEncoder()\n",
    "        IMD_Copy[column] = label_encoder.fit_transform(IMD_Copy[column])\n",
    "IMD_Copy.head(5)"
   ]
  },
  {
   "cell_type": "markdown",
   "metadata": {},
   "source": [
    "*Droping tldiff*\n",
    "\n",
    "I had to drop this becuase it failed to imput misisng values, eeven after trying to trasnfom. presence of missing values was affecting model training. "
   ]
  },
  {
   "cell_type": "code",
   "execution_count": 19,
   "metadata": {},
   "outputs": [],
   "source": [
    "# Drop the original 'tldiff' column\n",
    "# IMD_Copy.drop(columns=['tldiff'], inplace=True)\n"
   ]
  },
  {
   "cell_type": "code",
   "execution_count": 20,
   "metadata": {},
   "outputs": [],
   "source": [
    "# # create an EDA report using pandasprofiling\n",
    "# profile2 = IMD_Copy.profile_report()\n",
    "\n",
    "# #Saving the profile report\n",
    "# profile2.to_file(\"Profile_Transformed_Imputed.html\")\n",
    "\n",
    "# # Display the profile report\n",
    "# display(profile2)"
   ]
  },
  {
   "cell_type": "markdown",
   "metadata": {},
   "source": [
    "MODEL BUILDING"
   ]
  },
  {
   "cell_type": "code",
   "execution_count": 21,
   "metadata": {},
   "outputs": [],
   "source": [
    "# Since IMD_Copy contains both features and the target variable\n",
    "# Separate features and target variable\n",
    "features = IMD_Copy.drop('IMDs', axis=1)\n",
    "target = IMD_Copy['IMDs']"
   ]
  },
  {
   "cell_type": "code",
   "execution_count": 22,
   "metadata": {},
   "outputs": [],
   "source": [
    "# 4. Evaluate Algorithms\n",
    "# a) Split-out validation dataset\n",
    "# b) Test options and evaluation metric\n",
    "# c) Spot Check Algorithms\n",
    "# d) Compare Algorithms\n",
    "\n"
   ]
  },
  {
   "cell_type": "markdown",
   "metadata": {},
   "source": [
    "**Model Spot-checking**\n",
    "\n",
    "The following classifiers have been used in the model spot-checking\n",
    "- Dummy Classifier - Not Included to check for accuracy given only most frequent class is always predicted as target. Taken as lower baseline classifier.\n",
    "- Logistic Regression\n",
    "- Naive Bayes\n",
    "- K-Nearest Neighbours\n",
    "- Support Vector Machines - Support Vector Classifier\n",
    "- Decision Trees\n",
    "- Ensemble classifiers (Random Forests, Gradient Boosting Classifier and AdaBoostClassifier)\n",
    "\n",
    "The chosen evaluation metric was `f1-score`. However, other metrics `precision`, `recall`, `roc_auc` were also employed to do model spot checking.\n",
    "\n",
    "The **`_weighted`** versions of the metrics have been used to cater for `target imbalances` in the data. For `roc_auc`, the **`_ovo` (one versus one (ovo))** was used to cater for `imbalances` in the data too. The ovo is insensitive to data label imbalances unlike the `one versus rest` version.\n",
    "\n",
    "The `StratifiedKFold` was used in `cross validation` to ensure each `split` contains equivalent proportions of the different `classes` in the data.\n",
    "\n",
    "At first, the `DummyClassifier` was used to set a `baseline score` given one choses the target value at random or selects the most frequent class."
   ]
  },
  {
   "cell_type": "code",
   "execution_count": 23,
   "metadata": {},
   "outputs": [],
   "source": [
    "# from sklearn.linear_model import LogisticRegression\n",
    "from sklearn.naive_bayes import GaussianNB\n",
    "from sklearn.neighbors import KNeighborsClassifier\n",
    "from sklearn.tree import DecisionTreeClassifier\n",
    "from sklearn.svm import SVC\n",
    "from sklearn.ensemble import RandomForestClassifier, GradientBoostingClassifier, AdaBoostClassifier\n",
    "from sklearn.discriminant_analysis import LinearDiscriminantAnalysis\n",
    "\n",
    "# Instantiating the models\n",
    "# dc = DummyClassifier(strategy='most_frequent')\n",
    "lr = LogisticRegression()\n",
    "nb = GaussianNB()\n",
    "knn = KNeighborsClassifier()\n",
    "dt = DecisionTreeClassifier()\n",
    "sv = SVC(probability=True)  # Probability set to True to return a non-NaN roc_auc\n",
    "rf = RandomForestClassifier()\n",
    "gb = GradientBoostingClassifier()\n",
    "ad = AdaBoostClassifier()\n",
    "lda = LinearDiscriminantAnalysis()\n",
    "\n",
    "from sklearn.model_selection import StratifiedKFold\n",
    "\n",
    "# Setting the StratifiedKFold parameter\n",
    "skfold = StratifiedKFold(n_splits=10, random_state=42, shuffle=True)\n",
    "# ^ This creates a StratifiedKFold object with 10 splits, ensuring that each fold has approximately the same class distribution as the original dataset.\n",
    "#   `random_state=42` ensures reproducibility of results, while `shuffle=True` shuffles the data before splitting into folds."
   ]
  },
  {
   "cell_type": "code",
   "execution_count": 24,
   "metadata": {},
   "outputs": [
    {
     "name": "stdout",
     "output_type": "stream",
     "text": [
      "LogisticRegression()\n"
     ]
    },
    {
     "name": "stdout",
     "output_type": "stream",
     "text": [
      "f1_weighted : 0.7770875092280427\n",
      "precision_weighted : 0.7178491214163033\n",
      "recall_weighted : 0.8471264367816091\n",
      "accuracy : 0.8471264367816091\n",
      "roc_auc_ovo_weighted : 0.5075166666666667\n",
      "\n",
      "\n",
      "GaussianNB()\n",
      "f1_weighted : 0.7716408861343608\n",
      "precision_weighted : 0.7164771283677348\n",
      "recall_weighted : 0.8367816091954022\n",
      "accuracy : 0.8367816091954022\n",
      "roc_auc_ovo_weighted : 0.4725499999999999\n",
      "\n",
      "\n",
      "KNeighborsClassifier()\n",
      "f1_weighted : 0.7704719924504252\n",
      "precision_weighted : 0.7244268959340303\n",
      "recall_weighted : 0.8266666666666668\n",
      "accuracy : 0.8266666666666668\n",
      "roc_auc_ovo_weighted : 0.52165\n",
      "\n",
      "\n",
      "DecisionTreeClassifier()\n",
      "f1_weighted : 0.7810457200855162\n",
      "precision_weighted : 0.7547278489262238\n",
      "recall_weighted : 0.8232183908045977\n",
      "accuracy : 0.8232183908045977\n",
      "roc_auc_ovo_weighted : 0.5967166666666668\n",
      "\n",
      "\n",
      "SVC(probability=True)\n",
      "f1_weighted : 0.7770875092280427\n",
      "precision_weighted : 0.7178491214163033\n",
      "recall_weighted : 0.8471264367816091\n",
      "accuracy : 0.8471264367816091\n",
      "roc_auc_ovo_weighted : 0.46624999999999994\n",
      "\n",
      "\n",
      "RandomForestClassifier()\n",
      "f1_weighted : 0.7887780898868516\n",
      "precision_weighted : 0.752793139099124\n",
      "recall_weighted : 0.8436781609195403\n",
      "accuracy : 0.8436781609195403\n",
      "roc_auc_ovo_weighted : 0.5825833333333332\n",
      "\n",
      "\n",
      "GradientBoostingClassifier()\n",
      "f1_weighted : 0.7892574264294064\n",
      "precision_weighted : 0.7555470622652549\n",
      "recall_weighted : 0.850344827586207\n",
      "accuracy : 0.850344827586207\n",
      "roc_auc_ovo_weighted : 0.6020833333333333\n",
      "\n",
      "\n",
      "AdaBoostClassifier()\n",
      "f1_weighted : 0.7770875092280427\n",
      "precision_weighted : 0.7178491214163033\n",
      "recall_weighted : 0.8471264367816091\n",
      "accuracy : 0.8471264367816091\n",
      "roc_auc_ovo_weighted : 0.46581666666666666\n",
      "\n",
      "\n",
      "LinearDiscriminantAnalysis()\n",
      "f1_weighted : 0.7770875092280427\n",
      "precision_weighted : 0.7178491214163033\n",
      "recall_weighted : 0.8471264367816091\n",
      "accuracy : 0.8471264367816091\n",
      "roc_auc_ovo_weighted : 0.49845000000000006\n",
      "\n",
      "\n"
     ]
    }
   ],
   "source": [
    "from sklearn.model_selection import train_test_split, cross_val_score, StratifiedKFold\n",
    "import warnings\n",
    "# Suppress warnings\n",
    "warnings.filterwarnings(\"ignore\")\n",
    "\n",
    "# Define models and scores as you did\n",
    "models = [lr, nb, knn, dt, sv, rf, gb, ad, lda]\n",
    "scores = [\"f1_weighted\", \"precision_weighted\", \"recall_weighted\", \"accuracy\", \"roc_auc_ovo_weighted\"]\n",
    "\n",
    "# Initialize lists to store scores for each model\n",
    "f1 = []\n",
    "precision = []\n",
    "recall = []\n",
    "accuracy = []\n",
    "roc_auc = []\n",
    "score_lists = [f1, precision, recall, accuracy, roc_auc]\n",
    "\n",
    "# Define the number of folds for cross-validation\n",
    "n_splits = 10  # You can adjust this number as needed\n",
    "\n",
    "# Split the data into training and testing sets\n",
    "# Assuming features and target are already defined\n",
    "X_train, X_test, y_train, y_test = train_test_split(features, target, test_size=0.2, random_state=42)\n",
    "\n",
    "# Initialize StratifiedKFold for cross-validation\n",
    "skfold = StratifiedKFold(n_splits=n_splits, random_state=42, shuffle=True)\n",
    "\n",
    "# For loop to evaluate the models\n",
    "for model in models:\n",
    "    print(model)\n",
    "    for index, score in enumerate(scores):\n",
    "        cv_scores = cross_val_score(model, X_train, y_train, cv=skfold, scoring=score)\n",
    "        score_lists[index].append(np.mean(cv_scores))\n",
    "        print(score + \" : \" + str(np.mean(cv_scores)))\n",
    "    print(\"\\n\")\n"
   ]
  },
  {
   "cell_type": "markdown",
   "metadata": {},
   "source": [
    "Logistic regression was chosen as the best model"
   ]
  },
  {
   "cell_type": "code",
   "execution_count": 25,
   "metadata": {},
   "outputs": [
    {
     "name": "stdout",
     "output_type": "stream",
     "text": [
      "F1 Score\n",
      "1. GradientBoostingClassifier(): 0.7892574264294064\n",
      "2. RandomForestClassifier(): 0.7887780898868516\n",
      "3. DecisionTreeClassifier(): 0.7810457200855162\n",
      "4. LogisticRegression(): 0.7770875092280427\n",
      "5. SVC(probability=True): 0.7770875092280427\n",
      "6. AdaBoostClassifier(): 0.7770875092280427\n",
      "7. LinearDiscriminantAnalysis(): 0.7770875092280427\n",
      "8. GaussianNB(): 0.7716408861343608\n",
      "9. KNeighborsClassifier(): 0.7704719924504252\n",
      "\n",
      "Precision\n",
      "1. GradientBoostingClassifier(): 0.7555470622652549\n",
      "2. DecisionTreeClassifier(): 0.7547278489262238\n",
      "3. RandomForestClassifier(): 0.752793139099124\n",
      "4. KNeighborsClassifier(): 0.7244268959340303\n",
      "5. LogisticRegression(): 0.7178491214163033\n",
      "6. SVC(probability=True): 0.7178491214163033\n",
      "7. AdaBoostClassifier(): 0.7178491214163033\n",
      "8. LinearDiscriminantAnalysis(): 0.7178491214163033\n",
      "9. GaussianNB(): 0.7164771283677348\n",
      "\n",
      "Recall\n",
      "1. GradientBoostingClassifier(): 0.850344827586207\n",
      "2. LogisticRegression(): 0.8471264367816091\n",
      "3. SVC(probability=True): 0.8471264367816091\n",
      "4. AdaBoostClassifier(): 0.8471264367816091\n",
      "5. LinearDiscriminantAnalysis(): 0.8471264367816091\n",
      "6. RandomForestClassifier(): 0.8436781609195403\n",
      "7. GaussianNB(): 0.8367816091954022\n",
      "8. KNeighborsClassifier(): 0.8266666666666668\n",
      "9. DecisionTreeClassifier(): 0.8232183908045977\n",
      "\n",
      "Accuracy\n",
      "1. GradientBoostingClassifier(): 0.850344827586207\n",
      "2. LogisticRegression(): 0.8471264367816091\n",
      "3. SVC(probability=True): 0.8471264367816091\n",
      "4. AdaBoostClassifier(): 0.8471264367816091\n",
      "5. LinearDiscriminantAnalysis(): 0.8471264367816091\n",
      "6. RandomForestClassifier(): 0.8436781609195403\n",
      "7. GaussianNB(): 0.8367816091954022\n",
      "8. KNeighborsClassifier(): 0.8266666666666668\n",
      "9. DecisionTreeClassifier(): 0.8232183908045977\n",
      "\n",
      "ROC AUC\n",
      "1. GradientBoostingClassifier(): 0.6020833333333333\n",
      "2. DecisionTreeClassifier(): 0.5967166666666668\n",
      "3. RandomForestClassifier(): 0.5825833333333332\n",
      "4. KNeighborsClassifier(): 0.52165\n",
      "5. LogisticRegression(): 0.5075166666666667\n",
      "6. LinearDiscriminantAnalysis(): 0.49845000000000006\n",
      "7. GaussianNB(): 0.4725499999999999\n",
      "8. SVC(probability=True): 0.46624999999999994\n",
      "9. AdaBoostClassifier(): 0.46581666666666666\n",
      "\n"
     ]
    }
   ],
   "source": [
    "# Define a dictionary to store mean scores for each model and metric\n",
    "model_scores = {}\n",
    "\n",
    "# Populate the dictionary with mean scores for each model and metric\n",
    "for model, f1_score, precision_score, recall_score, accuracy_score, roc_auc_score in zip(models, f1, precision, recall, accuracy, roc_auc):\n",
    "    model_scores[model] = {\n",
    "        \"F1 Score\": f1_score,\n",
    "        \"Precision\": precision_score,\n",
    "        \"Recall\": recall_score,\n",
    "        \"Accuracy\": accuracy_score,\n",
    "        \"ROC AUC\": roc_auc_score\n",
    "    }\n",
    "\n",
    "# Sort models based on each metric's score in descending order\n",
    "sorted_models = {}\n",
    "for metric in model_scores[model].keys():\n",
    "    sorted_models[metric] = sorted(model_scores.keys(), key=lambda x: model_scores[x][metric], reverse=True)\n",
    "\n",
    "# Print models in descending order for each metric\n",
    "for metric, models in sorted_models.items():\n",
    "    print(metric)\n",
    "    for rank, model in enumerate(models, start=1):\n",
    "        print(f\"{rank}. {model}: {model_scores[model][metric]}\")\n",
    "    print()\n"
   ]
  },
  {
   "cell_type": "markdown",
   "metadata": {},
   "source": [
    "Note:\n",
    "Accuracy: This metric measures the proportion of correctly classified instances out of all instances. It's suitable when the class distribution is balanced and all classes are equally important.\n",
    "\n",
    "Precision: Precision measures the proportion of true positive predictions out of all positive predictions. It's useful when the cost of false positives is high.\n",
    "\n",
    "Recall (Sensitivity): Recall measures the proportion of true positive predictions out of all actual positive instances. It's valuable when the cost of false negatives is high.\n",
    "\n",
    "F1 Score: The F1 score is the harmonic mean of precision and recall. It provides a balance between precision and recall and is suitable when there's an uneven class distribution.\n",
    "\n",
    "ROC AUC: Receiver Operating Characteristic Area Under the Curve (ROC AUC) measures the area under the ROC curve, which plots the true positive rate against the false positive rate. It's suitable for binary classification problems, especially when class imbalance exists."
   ]
  },
  {
   "cell_type": "markdown",
   "metadata": {},
   "source": [
    "### Improving Accuracy"
   ]
  },
  {
   "cell_type": "markdown",
   "metadata": {},
   "source": [
    "#### Hyperparameter tuning\n",
    "Hyperparameter tuning is used to optimize the performance of machine learning models by searching for the best set of hyperparameters. Hyperparameters are settings that are not learned from the data but are set prior to training, such as the regularization strength in logistic regression, the depth of a decision tree, or the number of trees in a random forest.\n",
    "\n",
    "Hyperparameter tuning is typically performed after selecting a model and before evaluating its performance on unseen data (e.g., a holdout test set). Here's a breakdown of the typical workflow involving hyperparameter tuning:"
   ]
  },
  {
   "cell_type": "code",
   "execution_count": 26,
   "metadata": {},
   "outputs": [],
   "source": [
    "from sklearn.model_selection import GridSearchCV\n",
    "from sklearn.metrics import classification_report\n",
    "\n",
    "# Define the grid of hyperparameters for each model\n",
    "# param_grid_dc = {}  # DummyClassifier does not have hyperparameters\n",
    "param_grid_lr = {'C': [0.001, 0.01, 0.1, 1, 10, 100]}\n",
    "param_grid_nb = {}  # GaussianNB does not have hyperparameters\n",
    "param_grid_knn = {'n_neighbors': [3, 5, 7, 9]}\n",
    "param_grid_dt = {'max_depth': [None, 5, 10, 20]}\n",
    "param_grid_sv = {'C': [0.1, 1, 10], 'gamma': [0.1, 1, 10]}\n",
    "param_grid_rf = {'n_estimators': [50, 100, 200], 'max_depth': [None, 10, 20]}\n",
    "param_grid_gb = {'n_estimators': [50, 100, 200], 'learning_rate': [0.01, 0.1, 1]}\n",
    "param_grid_ad = {'n_estimators': [50, 100, 200], 'learning_rate': [0.01, 0.1, 1]}\n",
    "param_grid_lda = {}  # LinearDiscriminantAnalysis does not have hyperparameters\n",
    "\n",
    "# Define models to tune\n",
    "models_to_tune = {'Logistic Regression': (lr, param_grid_lr),\n",
    "                  'Gaussian Naive Bayes': (nb, param_grid_nb),\n",
    "                  'K-Nearest Neighbors': (knn, param_grid_knn),\n",
    "                  'Decision Tree': (dt, param_grid_dt),\n",
    "                  'Support Vector Classifier': (sv, param_grid_sv),\n",
    "                  'Random Forest': (rf, param_grid_rf),\n",
    "                  'Gradient Boosting': (gb, param_grid_gb),\n",
    "                  'AdaBoost': (ad, param_grid_ad),\n",
    "                  'Linear Discriminant Analysis': (lda, param_grid_lda)}\n",
    "\n"
   ]
  },
  {
   "cell_type": "markdown",
   "metadata": {},
   "source": [
    "IF ACCURACY WAS USED TO CHOOSE THE BEST MODEL"
   ]
  },
  {
   "cell_type": "code",
   "execution_count": 27,
   "metadata": {},
   "outputs": [
    {
     "name": "stdout",
     "output_type": "stream",
     "text": [
      "Gradient Boosting: 0.850344827586207\n",
      "Logistic Regression: 0.8471264367816091\n",
      "Support Vector Classifier: 0.8471264367816091\n",
      "AdaBoost: 0.8471264367816091\n",
      "Linear Discriminant Analysis: 0.8471264367816091\n",
      "Random Forest: 0.8436781609195403\n",
      "K-Nearest Neighbors: 0.8402298850574713\n",
      "Decision Tree: 0.836896551724138\n",
      "Gaussian Naive Bayes: 0.8367816091954022\n",
      "\n",
      "Best Model Selected: Gradient Boosting\n"
     ]
    },
    {
     "data": {
      "image/png": "[encoded data removed]",
      "text/plain": [
       "<Figure size 1200x800 with 1 Axes>"
      ]
     },
     "metadata": {},
     "output_type": "display_data"
    }
   ],
   "source": [
    "import matplotlib.pyplot as plt\n",
    "import seaborn as sns\n",
    "\n",
    "# Perform grid search for each model\n",
    "best_models = {}\n",
    "model_scores = {}\n",
    "\n",
    "for name, (model, param_grid) in models_to_tune.items():\n",
    "    grid_search = GridSearchCV(model, param_grid, cv=skfold, scoring='accuracy')\n",
    "    grid_search.fit(X_train, y_train)\n",
    "    best_models[name] = grid_search.best_estimator_\n",
    "    model_scores[name] = grid_search.best_score_\n",
    "    \n",
    "# Sort models based on their scores (from best to worst)\n",
    "sorted_models = sorted(model_scores.items(), key=lambda x: x[1], reverse=True)\n",
    "\n",
    "# Print the sorted list of models with their scores\n",
    "for name, score in sorted_models:\n",
    "    print(f\"{name}: {score}\")\n",
    "\n",
    "# Select the best model\n",
    "best_model_name = sorted_models[0][0]\n",
    "best_model = best_models[best_model_name]\n",
    "print(f\"\\nBest Model Selected: {best_model_name}\")\n",
    "\n",
    "# List to store mean test accuracy for each model\n",
    "mean_test_accuracy = []\n",
    "\n",
    "# Loop through each model and perform grid search with cross-validation\n",
    "for name, (model, param_grid) in models_to_tune.items():\n",
    "    grid_search = GridSearchCV(model, param_grid, cv=skfold, scoring='accuracy')\n",
    "    grid_search.fit(X_train, y_train)\n",
    "    mean_test_accuracy.append(grid_search.cv_results_['mean_test_score'])\n",
    "\n",
    "# Create a box plot\n",
    "plt.figure(figsize=(12, 8))\n",
    "sns.boxplot(data=mean_test_accuracy)\n",
    "plt.title('Performance of Models with Hyperparameter Tuning (Accuracy)')\n",
    "plt.xlabel('Models')\n",
    "plt.ylabel('Mean Test Accuracy')\n",
    "plt.xticks(range(len(models_to_tune)), models_to_tune.keys(), rotation=45)\n",
    "plt.grid(True)\n",
    "plt.show()"
   ]
  },
  {
   "cell_type": "markdown",
   "metadata": {},
   "source": [
    "IF F1 SCORE WAS USED TO CHOOSE THE BEST MODEL"
   ]
  },
  {
   "cell_type": "code",
   "execution_count": 28,
   "metadata": {},
   "outputs": [
    {
     "name": "stdout",
     "output_type": "stream",
     "text": [
      "Gradient Boosting: 0.9188488660186772\n",
      "Logistic Regression: 0.9171653643351757\n",
      "Support Vector Classifier: 0.9171653643351757\n",
      "AdaBoost: 0.9171653643351757\n",
      "Linear Discriminant Analysis: 0.9171653643351757\n",
      "Random Forest: 0.9143747587143813\n",
      "K-Nearest Neighbors: 0.9120727717425829\n",
      "Gaussian Naive Bayes: 0.9108472815465045\n",
      "Decision Tree: 0.9075112518508744\n",
      "\n",
      "Best Model Selected: Gradient Boosting\n"
     ]
    },
    {
     "data": {
      "image/png": "[encoded data removed]",
      "text/plain": [
       "<Figure size 1200x800 with 1 Axes>"
      ]
     },
     "metadata": {},
     "output_type": "display_data"
    }
   ],
   "source": [
    "# Perform grid search for each model\n",
    "best_models = {}\n",
    "model_scores = {}\n",
    "\n",
    "for name, (model, param_grid) in models_to_tune.items():\n",
    "    grid_search = GridSearchCV(model, param_grid, cv=skfold, scoring='f1')\n",
    "    grid_search.fit(X_train, y_train)\n",
    "    best_models[name] = grid_search.best_estimator_\n",
    "    model_scores[name] = grid_search.best_score_\n",
    "    \n",
    "# Sort models based on their scores (from best to worst)\n",
    "sorted_models = sorted(model_scores.items(), key=lambda x: x[1], reverse=True)\n",
    "\n",
    "# Print the sorted list of models with their scores\n",
    "for name, score in sorted_models:\n",
    "    print(f\"{name}: {score}\")\n",
    "\n",
    "# Select the best model\n",
    "best_model_name = sorted_models[0][0]\n",
    "best_model_f1 = best_models[best_model_name]\n",
    "print(f\"\\nBest Model Selected: {best_model_name}\")\n",
    "\n",
    "# List to store mean f1 score for each model\n",
    "mean_test_f1 = []\n",
    "\n",
    "# Loop through each model and perform grid search with cross-validation\n",
    "for name, (model, param_grid) in models_to_tune.items():\n",
    "    grid_search = GridSearchCV(model, param_grid, cv=skfold, scoring='f1')\n",
    "    grid_search.fit(X_train, y_train)\n",
    "    mean_test_f1.append(grid_search.cv_results_['mean_test_score'])\n",
    "\n",
    "# Create a box plot\n",
    "plt.figure(figsize=(12, 8))\n",
    "sns.boxplot(data=mean_test_f1)\n",
    "plt.title('Performance of Models with Hyperparameter Tuning (f1 score)')\n",
    "plt.xlabel('Models')\n",
    "plt.ylabel('Mean f1 score')\n",
    "plt.xticks(range(len(models_to_tune)), models_to_tune.keys(), rotation=45)\n",
    "plt.grid(True)\n",
    "plt.show()"
   ]
  },
  {
   "cell_type": "markdown",
   "metadata": {},
   "source": [
    "Alternative method to Improving Performnace is Ensemble methods \n",
    "Ensemble methods are techniques that combine multiple individual models to improve the overall predictive performance compared to any single model. They work by leveraging the wisdom of the crowd, where the collective decision of multiple models tends to be more accurate and robust than the decision of any individual model. Some popular ensemble methods for improving accuracy include:\n",
    "\n",
    "Bagging (Bootstrap Aggregating):\n",
    "\n",
    "Random Forest: Constructs multiple decision trees during training and outputs the mode of the classes as the prediction (classification) or average prediction (regression) of the individual trees.\n",
    "Bagged Decision Trees: Similar to Random Forest but typically with decision trees as base learners.\n",
    "Boosting:\n",
    "\n",
    "AdaBoost (Adaptive Boosting): Iteratively trains weak classifiers (e.g., shallow decision trees) on different subsets of the training data, giving more weight to misclassified samples in subsequent iterations.\n",
    "Gradient Boosting Machines (GBM): Builds an ensemble of trees sequentially, where each new tree corrects the errors made by the previous ones by fitting residuals.\n",
    "Stacking (Stacked Generalization):\n",
    "\n",
    "Stacked Ensemble: Combines the predictions of multiple models (base learners) using a meta-model (often logistic regression or another model) that learns how to best combine the predictions.\n",
    "Voting:\n",
    "\n",
    "Voting Classifier: Combines the predictions of multiple base classifiers (e.g., decision trees, SVMs, logistic regression) and predicts the class with the most votes (hard voting) or the class with the highest average probability (soft voting).\n",
    "Bayesian Model Averaging (BMA):\n",
    "\n",
    "Bayesian Voting: Instead of using equal weights for all models, assigns different weights to models based on their performance on validation data."
   ]
  },
  {
   "cell_type": "code",
   "execution_count": 29,
   "metadata": {},
   "outputs": [],
   "source": [
    "# 6. Finalize Model\n",
    "# a) Predictions on validation dataset\n",
    "# b) Create standalone model on entire training dataset\n",
    "# c) Save model for later use"
   ]
  },
  {
   "cell_type": "markdown",
   "metadata": {},
   "source": [
    "PERFROMANCE ON TEST DATA"
   ]
  },
  {
   "cell_type": "code",
   "execution_count": 30,
   "metadata": {},
   "outputs": [
    {
     "name": "stdout",
     "output_type": "stream",
     "text": [
      "Accuracy on test dataset: 0.7297297297297297\n",
      "Precision on test dataset: 0.5497963717141798\n",
      "Recall on test dataset: 0.7297297297297297\n",
      "F1-score on test dataset: 0.6271114864864865\n"
     ]
    }
   ],
   "source": [
    "from sklearn.metrics import accuracy_score, precision_score, recall_score, f1_score\n",
    "from sklearn.model_selection import train_test_split\n",
    "\n",
    "# # Split the test data into training and validation sets\n",
    "# X_train, X_validation, y_train, y_validation = train_test_split(X_train, y_train, test_size=0.25, random_state=42)\n",
    "\n",
    "# Make predictions on the validation dataset\n",
    "y_pred_validation = best_model_f1.predict(X_test)\n",
    "\n",
    "# Calculate evaluation metrics\n",
    "accuracy = accuracy_score(y_test, y_pred_validation)\n",
    "precision = precision_score(y_test, y_pred_validation, average='weighted')\n",
    "recall = recall_score(y_test, y_pred_validation, average='weighted')\n",
    "f1 = f1_score(y_test, y_pred_validation, average='weighted')\n",
    "\n",
    "# Print evaluation metrics\n",
    "print(f\"Accuracy on test dataset: {accuracy}\")\n",
    "print(f\"Precision on test dataset: {precision}\")\n",
    "print(f\"Recall on test dataset: {recall}\")\n",
    "print(f\"F1-score on test dataset: {f1}\")\n"
   ]
  },
  {
   "cell_type": "markdown",
   "metadata": {},
   "source": [
    "FROM ORIGINAL DATA"
   ]
  },
  {
   "cell_type": "code",
   "execution_count": 31,
   "metadata": {},
   "outputs": [
    {
     "data": {
      "image/png": "[encoded data removed]",
      "text/plain": [
       "<Figure size 800x600 with 1 Axes>"
      ]
     },
     "metadata": {},
     "output_type": "display_data"
    }
   ],
   "source": [
    "import matplotlib.pyplot as plt\n",
    "\n",
    "# Evaluation metrics\n",
    "metrics = ['Accuracy', 'Precision', 'Recall', 'F1-score']\n",
    "scores = [accuracy, precision, recall, f1]\n",
    "\n",
    "# Multiply scores by 100 to convert to percentage\n",
    "scores_percentage = [score * 100 for score in scores]\n",
    "\n",
    "# Create bar plot\n",
    "plt.figure(figsize=(8, 6))\n",
    "bars = plt.bar(metrics, scores_percentage, color=['blue', 'green', 'orange', 'red'])\n",
    "\n",
    "# Add more space between the chart title and the bar graph\n",
    "plt.title('Evaluation Metrics on Unseen Data\\n\\n')\n",
    "\n",
    "plt.xlabel('Metrics')\n",
    "plt.ylabel('Scores (%)')  # Adjust y-axis label to indicate percentage\n",
    "plt.ylim(0, 100)  # Set y-axis limit to range between 0 and 100 for percentages\n",
    "\n",
    "# Add value labels on top of the bars\n",
    "for bar, score in zip(bars, scores_percentage):\n",
    "    plt.text(bar.get_x() + bar.get_width() / 2, bar.get_height(), '{:.2f}%'.format(score),\n",
    "             ha='center', va='bottom')\n",
    "\n",
    "plt.show()\n"
   ]
  },
  {
   "cell_type": "markdown",
   "metadata": {},
   "source": [
    "### FEATURE IMPORTANCE \n"
   ]
  },
  {
   "cell_type": "markdown",
   "metadata": {},
   "source": [
    "Feature importance is a technique used to understand which features have the most impact on a model's predictions. It helps in feature selection, model interpretation, identifying data quality issues, and gaining business insights."
   ]
  },
  {
   "cell_type": "code",
   "execution_count": 32,
   "metadata": {},
   "outputs": [
    {
     "name": "stdout",
     "output_type": "stream",
     "text": [
      "Feature Importances:\n",
      "                  Feature  Importance\n",
      "1            CD4_category    0.336501\n",
      "2      Viralload_Category    0.322664\n",
      "0         Worst_HIV_Stage    0.320220\n",
      "3  telomere_length_change    0.020615\n"
     ]
    },
    {
     "data": {
      "image/png": "[encoded data removed]",
      "text/plain": [
       "<Figure size 1000x600 with 1 Axes>"
      ]
     },
     "metadata": {},
     "output_type": "display_data"
    }
   ],
   "source": [
    "import pandas as pd\n",
    "import matplotlib.pyplot as plt\n",
    "import seaborn as sns\n",
    "\n",
    "def plot_feature_importances(model, features):\n",
    "    \"\"\"\n",
    "    Plot feature importances for the given model.\n",
    "    \n",
    "    Parameters:\n",
    "        model (object): The trained model for which feature importances are to be plotted.\n",
    "        features (DataFrame): DataFrame containing the features used for training.\n",
    "    \"\"\"\n",
    "    # Check if the model supports feature importances\n",
    "    if hasattr(model, 'feature_importances_'):\n",
    "        # Get feature importances\n",
    "        feature_importances = model.feature_importances_\n",
    "        \n",
    "        # Assuming your features are stored in a DataFrame 'features' with column names\n",
    "        feature_names = features.columns\n",
    "        \n",
    "        # Create a DataFrame to display feature importances\n",
    "        feature_importance_df = pd.DataFrame({'Feature': feature_names, 'Importance': feature_importances})\n",
    "        \n",
    "        # Sort the DataFrame by importance in descending order\n",
    "        feature_importance_df = feature_importance_df.sort_values(by='Importance', ascending=False)\n",
    "        \n",
    "        # Print or visualize the feature importances\n",
    "        print(\"Feature Importances:\")\n",
    "        print(feature_importance_df)\n",
    "\n",
    "                # Plot feature importances\n",
    "        plt.figure(figsize=(10, 6))\n",
    "        sns.barplot(x='Importance', y='Feature', data=feature_importance_df)\n",
    "        plt.title('Feature Importances')\n",
    "        plt.xlabel('Importance')\n",
    "        plt.ylabel('Feature')\n",
    "        plt.show()\n",
    "    else:\n",
    "        print(\"Feature importances are not available for this model.\")\n",
    "\n",
    "# Assuming 'best_model' is the trained model and 'features' is the DataFrame containing features\n",
    "plot_feature_importances(best_model_f1, features)"
   ]
  },
  {
   "cell_type": "code",
   "execution_count": 33,
   "metadata": {},
   "outputs": [
    {
     "ename": "IndexError",
     "evalue": "list index out of range",
     "output_type": "error",
     "traceback": [
      "\u001b[1;31m---------------------------------------------------------------------------\u001b[0m",
      "\u001b[1;31mIndexError\u001b[0m                                Traceback (most recent call last)",
      "Cell \u001b[1;32mIn[33], line 13\u001b[0m\n\u001b[0;32m     10\u001b[0m shap_values \u001b[38;5;241m=\u001b[39m explainer(X_test)\n\u001b[0;32m     12\u001b[0m \u001b[38;5;66;03m# Plot SHAP values\u001b[39;00m\n\u001b[1;32m---> 13\u001b[0m \u001b[43mshap\u001b[49m\u001b[38;5;241;43m.\u001b[39;49m\u001b[43mplots\u001b[49m\u001b[38;5;241;43m.\u001b[39;49m\u001b[43mbar\u001b[49m\u001b[43m(\u001b[49m\u001b[43mshap_values\u001b[49m\u001b[43m,\u001b[49m\u001b[43m \u001b[49m\u001b[43mmax_display\u001b[49m\u001b[38;5;241;43m=\u001b[39;49m\u001b[38;5;28;43mlen\u001b[39;49m\u001b[43m(\u001b[49m\u001b[43mfeature_names\u001b[49m\u001b[43m)\u001b[49m\u001b[43m)\u001b[49m\n",
      "File \u001b[1;32mc:\\Users\\isaac\\AppData\\Local\\Programs\\Python\\Python311\\Lib\\site-packages\\shap\\plots\\_bar.py:208\u001b[0m, in \u001b[0;36mbar\u001b[1;34m(shap_values, max_display, order, clustering, clustering_cutoff, show_data, ax, show)\u001b[0m\n\u001b[0;32m    206\u001b[0m \u001b[38;5;28;01mfor\u001b[39;00m pos,inds \u001b[38;5;129;01min\u001b[39;00m \u001b[38;5;28menumerate\u001b[39m(orig_inds):\n\u001b[0;32m    207\u001b[0m     \u001b[38;5;28;01mif\u001b[39;00m \u001b[38;5;28mlen\u001b[39m(inds) \u001b[38;5;241m==\u001b[39m \u001b[38;5;241m1\u001b[39m:\n\u001b[1;32m--> 208\u001b[0m         feature_names_new\u001b[38;5;241m.\u001b[39mappend(\u001b[43mfeature_names\u001b[49m\u001b[43m[\u001b[49m\u001b[43minds\u001b[49m\u001b[43m[\u001b[49m\u001b[38;5;241;43m0\u001b[39;49m\u001b[43m]\u001b[49m\u001b[43m]\u001b[49m)\n\u001b[0;32m    209\u001b[0m     \u001b[38;5;28;01melse\u001b[39;00m:\n\u001b[0;32m    210\u001b[0m         full_print \u001b[38;5;241m=\u001b[39m \u001b[38;5;124m\"\u001b[39m\u001b[38;5;124m + \u001b[39m\u001b[38;5;124m\"\u001b[39m\u001b[38;5;241m.\u001b[39mjoin([feature_names[i] \u001b[38;5;28;01mfor\u001b[39;00m i \u001b[38;5;129;01min\u001b[39;00m inds])\n",
      "\u001b[1;31mIndexError\u001b[0m: list index out of range"
     ]
    }
   ],
   "source": [
    "import shap\n",
    "\n",
    "# Get feature names\n",
    "feature_names = X_train.columns\n",
    "\n",
    "# Create a SHAP explainer for the best model\n",
    "explainer = shap.Explainer(best_model_f1.predict_proba, X_train)\n",
    "\n",
    "# Compute SHAP values\n",
    "shap_values = explainer(X_test)\n",
    "\n",
    "# Plot SHAP values\n",
    "shap.plots.bar(shap_values, max_display=len(feature_names))\n"
   ]
  }
 ],
 "metadata": {
  "kernelspec": {
   "display_name": "Python 3",
   "language": "python",
   "name": "python3"
  },
  "language_info": {
   "codemirror_mode": {
    "name": "ipython",
    "version": 3
   },
   "file_extension": ".py",
   "mimetype": "text/x-python",
   "name": "python",
   "nbconvert_exporter": "python",
   "pygments_lexer": "ipython3",
   "version": "3.11.5"
  }
 },
 "nbformat": 4,
 "nbformat_minor": 2
}
